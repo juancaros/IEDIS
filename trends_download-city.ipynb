{
 "cells": [
  {
   "cell_type": "code",
   "execution_count": null,
   "metadata": {},
   "outputs": [],
   "source": [
    "#Import \n",
    "from pytrends.request import TrendReq \n",
    "import json\n",
    "import pandas as pd\n",
    "import requests\n",
    "import time\n",
    "import random\n",
    "GET_METHOD='get'\n",
    "import requests\n"
   ]
  },
  {
   "cell_type": "code",
   "execution_count": null,
   "metadata": {},
   "outputs": [],
   "source": [
    "#Created a subclass\n",
    "# visit trends.google.com\n",
    "# open developer tools and go to the network tab\n",
    "# make a search, and then right-click on the top GET request (should look like explore?q=...)\n",
    "# copy the request as bash-cURL\n",
    "# paste this into curlconverter.com and get the cookies!\n",
    "\n",
    "\n",
    "cookies = {\n",
    "    \"SEARCH_SAMESITE\": \"####\",\n",
    "    \"SID\": \"####\",\n",
    "    .\n",
    "    .\n",
    "    .\n",
    "}\n",
    "\n",
    "class CookieTrendReq(TrendReq):\n",
    "    def GetGoogleCookie(self):\n",
    "        return dict(filter(lambda i: i[0] == 'NID', cookies.items()))"
   ]
  },
  {
   "cell_type": "code",
   "execution_count": null,
   "metadata": {},
   "outputs": [],
   "source": [
    "class CookieTrendReq(TrendReq):\n",
    "    def GetGoogleCookie(self):\n",
    "        return dict(filter(lambda i: i[0] == 'NID', cookies.items()))"
   ]
  },
  {
   "cell_type": "code",
   "execution_count": null,
   "metadata": {},
   "outputs": [],
   "source": [
    "pytrends = TrendReq()\n",
    "kw_list = [\"ansiedad\"]\n",
    "time_frame = '2021-01-01 2021-01-03'\n",
    "start_date, end_date = time_frame.split()"
   ]
  },
  {
   "cell_type": "code",
   "execution_count": null,
   "metadata": {},
   "outputs": [],
   "source": [
    "#get interest by city\n",
    "\n",
    "def get_interest_by_city_panel(pytrends, kw_list, time_frame):\n",
    "    start_date, end_date = time_frame.split()\n",
    "      # Initialize an empty DataFrame to store the results\n",
    "    panel_df = pd.DataFrame()\n",
    "    for date in pd.date_range(start=start_date, end=end_date):\n",
    "        wait = random.randint(60, 70)\n",
    "        start_date = date.strftime('%Y-%m-%d')\n",
    "        end_date = (date + pd.DateOffset(days=1)).strftime('%Y-%m-%d')\n",
    "        current_timeframe = start_date + ' ' + end_date    \n",
    "        print(current_timeframe)\n",
    "        time.sleep(wait)\n",
    "        pytrends.build_payload(kw_list, cat=0, timeframe=current_timeframe, geo='ES-AR', gprop='')\n",
    "        city_data = pytrends.interest_by_region(resolution='CITY', inc_low_vol=True, inc_geo_code=False)\n",
    "        panel_df = pd.concat([panel_df, city_data], axis=0)\n",
    "    return panel_df\n"
   ]
  },
  {
   "cell_type": "code",
   "execution_count": null,
   "metadata": {},
   "outputs": [],
   "source": [
    "# Get the interest by city panel data\n",
    "city_panel_data = get_interest_by_city_panel(pytrends, kw_list, time_frame)\n",
    "print(city_panel_data)\n",
    "\n",
    "# Exportar el DataFrame a un archivo CSV\n",
    "city_panel_data.to_csv('pruebas.csv')\n",
    "\n",
    "print(\"Datos exportados a panel_data.csv\")"
   ]
  }
 ],
 "metadata": {
  "language_info": {
   "name": "python"
  },
  "orig_nbformat": 4
 },
 "nbformat": 4,
 "nbformat_minor": 2
}
