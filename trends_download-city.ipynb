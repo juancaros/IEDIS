{
 "cells": [
  {
   "cell_type": "code",
   "execution_count": null,
   "metadata": {},
   "outputs": [],
   "source": [
    "#Import \n",
    "from pytrends.request import TrendReq \n",
    "import json\n",
    "import pandas as pd\n",
    "import requests\n",
    "import time\n",
    "import random\n",
    "GET_METHOD='get'\n",
    "import requests\n"
   ]
  },
  {
   "cell_type": "code",
   "execution_count": null,
   "metadata": {},
   "outputs": [],
   "source": [
    "#Created a subclass\n",
    "# visit trends.google.com\n",
    "# open developer tools and go to the network tab\n",
    "# make a search, and then right-click on the top GET request (should look like explore?q=...)\n",
    "# copy the request as bash-cURL\n",
    "# paste this into curlconverter.com and get the cookies!\n",
    "\n",
    "\n",
    "cookies = {\n",
    "    \"SEARCH_SAMESITE\": \"####\",\n",
    "    \"SID\": \"####\",\n",
    "    .\n",
    "    .\n",
    "    .\n",
    "}\n",
    "\n",
    "class CookieTrendReq(TrendReq):\n",
    "    def GetGoogleCookie(self):\n",
    "        return dict(filter(lambda i: i[0] == 'NID', cookies.items()))"
   ]
  },
  {
   "cell_type": "code",
   "execution_count": null,
   "metadata": {},
   "outputs": [],
   "source": [
    "class CookieTrendReq(TrendReq):\n",
    "    def GetGoogleCookie(self):\n",
    "        return dict(filter(lambda i: i[0] == 'NID', cookies.items()))"
   ]
  },
  {
   "cell_type": "code",
   "execution_count": null,
   "metadata": {},
   "outputs": [],
   "source": [
    "pytrends = TrendReq()\n",
    "kw_list = [\"ansiedad\", \"depresión\", \"psicólogo\", \"psicoterapia\", \"desánimo\"]\n",
    "start_date = '2021-01-01'\n",
    "end_date = '2021-01-02'\n",
    "output_csv = 'panel_data.csv'  # Nombre del archivo CSV de salida"
   ]
  },
  {
   "cell_type": "code",
   "execution_count": null,
   "metadata": {},
   "outputs": [],
   "source": [
    "def get_interest_by_city_data(pytrends, kw_list, start_date, end_date):\n",
    "    # Inicializar el archivo CSV con encabezados\n",
    "    with open(output_csv, 'w', newline='') as csvfile:\n",
    "        fieldnames = [\"geoName\", \"coordinates\", \"ansiedad\", \"depresión\", \"psicólogo\", \"psicoterapia\", \"desánimo\", \"Fecha\"]\n",
    "        writer = csv.DictWriter(csvfile, fieldnames=fieldnames)\n",
    "        writer.writeheader()\n",
    "\n",
    "    current_date = pd.to_datetime(start_date)\n",
    "    end_date = pd.to_datetime(end_date)\n",
    "\n",
    "    while current_date <= end_date:\n",
    "        current_timeframe = current_date.strftime('%Y-%m-%d') + ' ' + (current_date + pd.DateOffset(days=1)).strftime('%Y-%m-%d')\n",
    "        print(current_timeframe)\n",
    "        wait = random.randint(60, 70)\n",
    "        time.sleep(wait)\n",
    "        pytrends.build_payload(kw_list, cat=0, timeframe=current_timeframe, geo='ES-AR', gprop='')\n",
    "        city_data = pytrends.interest_by_region(resolution='CITY', inc_low_vol=True, inc_geo_code=True)\n",
    "        city_data['Fecha'] = current_date.strftime('%Y-%m-%d')  # Agregar la fecha como una columna\n",
    "    # Resetear el índice para que \"geoName\" sea una columna regular\n",
    "        city_data = city_data.reset_index()\n",
    "\n",
    "        # Abrir el archivo CSV en modo append (agregar) y escribir el registro actual\n",
    "        with open(output_csv, 'a', newline='') as csvfile:\n",
    "            writer = csv.DictWriter(csvfile, fieldnames=fieldnames)\n",
    "            for _, row in city_data.iterrows():\n",
    "                writer.writerow(row.to_dict())\n",
    "        \n",
    "        current_date += pd.DateOffset(days=1)  # Avanzar un día\n",
    "\n",
    "    return\n"
   ]
  },
  {
   "cell_type": "code",
   "execution_count": null,
   "metadata": {},
   "outputs": [],
   "source": [
    "# Llamar a la función para recopilar datos y guardarlos secuencialmente en el archivo CSV\n",
    "get_interest_by_city_data(pytrends, kw_list, start_date, end_date)\n",
    "\n",
    "print(\"Datos exportados a\", output_csv)\n"
   ]
  }
 ],
 "metadata": {
  "language_info": {
   "name": "python"
  },
  "orig_nbformat": 4
 },
 "nbformat": 4,
 "nbformat_minor": 2
}
