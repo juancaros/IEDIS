{
 "cells": [
  {
   "cell_type": "code",
   "execution_count": 1,
   "id": "f17c4eed",
   "metadata": {},
   "outputs": [],
   "source": [
    "\n",
    "import googlemaps\n",
    "import pandas as pd\n",
    "from datetime import datetime"
   ]
  },
  {
   "cell_type": "code",
   "execution_count": null,
   "id": "7e9fabab",
   "metadata": {},
   "outputs": [],
   "source": [
    "API_KEY = ''\n",
    "\n",
    "# Inicializar el cliente de Google Maps\n",
    "gmaps = googlemaps.Client(key=API_KEY)"
   ]
  },
  {
   "cell_type": "code",
   "execution_count": null,
   "id": "56a7cae1",
   "metadata": {},
   "outputs": [],
   "source": [
    "# Coordenadas del centro de Concepción, Chile\n",
    "LATITUD = -36.8201\n",
    "LONGITUD = -73.0444\n",
    "ubicacion = (LATITUD, LONGITUD)\n",
    "\n",
    "# Radio de búsqueda: 15 km = 15000 metros\n",
    "RADIO_BUSQUEDA = 15000"
   ]
  },
  {
   "cell_type": "code",
   "execution_count": null,
   "id": "b9a9adbe",
   "metadata": {},
   "outputs": [],
   "source": [
    "tipos_lugares = {\n",
    "    'Paradas de Bus': 'bus_station',\n",
    "    'Hospitales': 'hospital',\n",
    "    'Escuelas': 'school',\n",
    "    'Universidades': 'university',\n",
    "    'Centros Comerciales': 'shopping_mall'\n",
    "}"
   ]
  },
  {
   "cell_type": "code",
   "execution_count": null,
   "id": "cfb0a39a",
   "metadata": {},
   "outputs": [],
   "source": [
    "def buscar_lugares_cercanos(gmaps_client, ubicacion, radio, tipo_lugar):\n",
    "    \"\"\"\n",
    "    Busca lugares cercanos usando Google Places API - Nearby Search\n",
    "    \n",
    "    Args:\n",
    "        gmaps_client: Cliente de googlemaps\n",
    "        ubicacion: Tupla (latitud, longitud)\n",
    "        radio: Radio de búsqueda en metros\n",
    "        tipo_lugar: Tipo de lugar según Google Places types\n",
    "    \n",
    "    Returns:\n",
    "        Lista de lugares encontrados\n",
    "    \"\"\"\n",
    "    lugares = []\n",
    "    \n",
    "    try:\n",
    "        # Primera búsqueda (máximo 20 resultados por página)\n",
    "        resultado = gmaps_client.places_nearby(\n",
    "            location=ubicacion,\n",
    "            radius=radio,\n",
    "            type=tipo_lugar\n",
    "        )\n",
    "        \n",
    "        lugares.extend(resultado.get('results', []))\n",
    "        \n",
    "        # Google Places retorna máximo 20 resultados por página\n",
    "        # Si hay más resultados, usa 'next_page_token'\n",
    "        while 'next_page_token' in resultado:\n",
    "            import time\n",
    "            time.sleep(2)  # Esperar 2 segundos (requerido por Google)\n",
    "            \n",
    "            resultado = gmaps_client.places_nearby(\n",
    "                page_token=resultado['next_page_token']\n",
    "            )\n",
    "            lugares.extend(resultado.get('results', []))\n",
    "        \n",
    "        print(f\"✓ Encontrados {len(lugares)} lugares de tipo '{tipo_lugar}'\")\n",
    "        \n",
    "    except Exception as e:\n",
    "        print(f\"✗ Error al buscar '{tipo_lugar}': {str(e)}\")\n",
    "    \n",
    "    return lugares"
   ]
  },
  {
   "cell_type": "code",
   "execution_count": null,
   "id": "509a72f8",
   "metadata": {},
   "outputs": [],
   "source": [
    "print(\"=\"*60)\n",
    "print(f\"Buscando lugares en un radio de {RADIO_BUSQUEDA/1000} km\")\n",
    "print(f\"desde Concepción ({LATITUD_CONCEPCION}, {LONGITUD_CONCEPCION})\")\n",
    "print(\"=\"*60)\n",
    "print()"
   ]
  },
  {
   "cell_type": "code",
   "execution_count": null,
   "id": "1f1fee7b",
   "metadata": {},
   "outputs": [],
   "source": [
    "todos_los_resultados = {}\n",
    "\n",
    "for nombre_categoria, tipo_lugar in tipos_lugares.items():\n",
    "    print(f\"Buscando: {nombre_categoria}...\")\n",
    "    resultados = buscar_lugares_cercanos(\n",
    "        gmaps_client=gmaps,\n",
    "        ubicacion=ubicacion,\n",
    "        radio=RADIO_BUSQUEDA,\n",
    "        tipo_lugar=tipo_lugar\n",
    "    )\n",
    "    todos_los_resultados[nombre_categoria] = resultados\n",
    "    print()"
   ]
  },
  {
   "cell_type": "code",
   "execution_count": null,
   "id": "f3080286",
   "metadata": {},
   "outputs": [],
   "source": [
    "def procesar_resultados(resultados_dict):\n",
    "    \"\"\"\n",
    "    Convierte los resultados de la API en un DataFrame de pandas\n",
    "    \"\"\"\n",
    "    datos_procesados = []\n",
    "    \n",
    "    for categoria, lugares in resultados_dict.items():\n",
    "        for lugar in lugares:\n",
    "            datos_procesados.append({\n",
    "                'Categoría': categoria,\n",
    "                'Nombre': lugar.get('name', 'Sin nombre'),\n",
    "                'Dirección': lugar.get('vicinity', 'Sin dirección'),\n",
    "                'Latitud': lugar['geometry']['location']['lat'],\n",
    "                'Longitud': lugar['geometry']['location']['lng'],\n",
    "                'Rating': lugar.get('rating', 'N/A'),\n",
    "                'Total Ratings': lugar.get('user_ratings_total', 0),\n",
    "                'Place ID': lugar.get('place_id', ''),\n",
    "                'Abierto Ahora': lugar.get('opening_hours', {}).get('open_now', 'N/A')\n",
    "            })\n",
    "    \n",
    "    return pd.DataFrame(datos_procesados)"
   ]
  },
  {
   "cell_type": "code",
   "execution_count": null,
   "id": "ab439f2d",
   "metadata": {},
   "outputs": [],
   "source": [
    "df_lugares = procesar_resultados(todos_los_resultados)"
   ]
  }
 ],
 "metadata": {
  "kernelspec": {
   "display_name": "Python 3",
   "language": "python",
   "name": "python3"
  },
  "language_info": {
   "codemirror_mode": {
    "name": "ipython",
    "version": 3
   },
   "file_extension": ".py",
   "mimetype": "text/x-python",
   "name": "python",
   "nbconvert_exporter": "python",
   "pygments_lexer": "ipython3",
   "version": "3.13.7"
  }
 },
 "nbformat": 4,
 "nbformat_minor": 5
}
