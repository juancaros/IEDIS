{
 "cells": [
  {
   "cell_type": "code",
   "execution_count": 2,
   "metadata": {},
   "outputs": [],
   "source": [
    "#!/usr/bin/env python\n",
    "# coding: utf-8\n",
    "\n",
    "import json\n",
    "import pandas as pd\n",
    "import requests\n",
    "from pytrends.request import TrendReq\n",
    "import time\n",
    "\n",
    "INTEREST_BY_REGION_URL = 'https://trends.google.com/trends/api/widgetdata/comparedgeo'\n"
   ]
  },
  {
   "cell_type": "code",
   "execution_count": 3,
   "metadata": {},
   "outputs": [],
   "source": [
    "def interest_by_city(self, inc_low_vol=True, time_frame=None):\n",
    "    \"\"\"Request data from Google's Interest by City section and return a dataframe\"\"\"\n",
    "\n",
    "    # make the request\n",
    "    resolution = 'CITY'\n",
    "    region_payload = dict()\n",
    "    self.interest_by_region_widget['request'][\n",
    "        'resolution'] = resolution\n",
    "\n",
    "    self.interest_by_region_widget['request'][\n",
    "        'includeLowSearchVolumeGeos'] = inc_low_vol\n",
    "\n",
    "    # convert to string as requests will mangle\n",
    "    region_payload['req'] = json.dumps(\n",
    "        self.interest_by_region_widget['request'])\n",
    "    region_payload['token'] = self.interest_by_region_widget['token']\n",
    "    region_payload['tz'] = self.tz\n",
    "\n",
    "    # parse returned json\n",
    "    req_json = self._get_data(\n",
    "        url=TrendReq.INTEREST_BY_REGION_URL,\n",
    "        method='get',\n",
    "        trim_chars=5,\n",
    "        params=region_payload,\n",
    "    )\n",
    "    df = pd.DataFrame(req_json['default']['geoMapData'])\n",
    "    if (df.empty):\n",
    "        return df \n",
    "     # rename the column with the search keyword\n",
    "    df = df[['geoName', 'coordinates', 'value', 'hasData']].set_index(\n",
    "        ['geoName']).sort_index()\n",
    "    # split list columns into separate ones, remove brackets and split on comma\n",
    "    result_df = df['value'].apply(lambda x: pd.Series(\n",
    "        str(x).replace('[', '').replace(']', '').split(',')))\n",
    "\n",
    "    # rename each column with its search term\n",
    "    for idx, kw in enumerate(self.kw_list):\n",
    "        result_df[kw] = result_df[idx].astype('int')\n",
    "        del result_df[idx]\n",
    "    result_df['time_frame'] = time_frame\n",
    "    return result_df"
   ]
  },
  {
   "cell_type": "code",
   "execution_count": 4,
   "metadata": {},
   "outputs": [],
   "source": [
    "def get_interest_by_city_panel(pytrends, kw_list, time_frame):\n",
    "    # Split the time frame into start and end dates\n",
    "    start_date, end_date = time_frame.split()\n",
    "    wait = 6\n",
    "    # Initialize an empty DataFrame to store the results\n",
    "    panel_df = pd.DataFrame()\n",
    "\n",
    "    for date in pd.date_range(start=start_date, end=end_date):\n",
    "        start_date = date.strftime('%Y-%m-%d')\n",
    "        end_date = (date + pd.DateOffset(days=1)).strftime('%Y-%m-%d')\n",
    "        current_timeframe = start_date + ' ' + end_date\n",
    "        \n",
    "        print(current_timeframe)\n",
    "        time.sleep(wait)\n",
    "        pytrends.build_payload(kw_list, cat=0, timeframe=current_timeframe, geo='ES', gprop='')\n",
    "        city_data = interest_by_city(pytrends, time_frame=current_timeframe)\n",
    "        panel_df = pd.concat([panel_df, city_data], axis=0)\n",
    "\n",
    "    return panel_df"
   ]
  },
  {
   "cell_type": "code",
   "execution_count": 5,
   "metadata": {},
   "outputs": [],
   "source": [
    "panel_data = pd.DataFrame()\n",
    "\n",
    "pytrends = TrendReq(hl='es', tz=360)\n",
    "kw_list = [\"ansiedad\",\"soledad\"]\n",
    "\n",
    "time_frame = '2018-06-01 2018-06-05'\n",
    "wait = 6"
   ]
  },
  {
   "cell_type": "code",
   "execution_count": 6,
   "metadata": {},
   "outputs": [
    {
     "name": "stdout",
     "output_type": "stream",
     "text": [
      "2018-06-01 2018-06-02\n"
     ]
    },
    {
     "name": "stderr",
     "output_type": "stream",
     "text": [
      "C:\\Users\\34645\\AppData\\Local\\Temp\\ipykernel_27676\\214009338.py:33: FutureWarning: Returning a DataFrame from Series.apply when the supplied function returns a Series is deprecated and will be removed in a future version.\n",
      "  result_df = df['value'].apply(lambda x: pd.Series(\n"
     ]
    },
    {
     "name": "stdout",
     "output_type": "stream",
     "text": [
      "2018-06-02 2018-06-03\n"
     ]
    },
    {
     "name": "stderr",
     "output_type": "stream",
     "text": [
      "C:\\Users\\34645\\AppData\\Local\\Temp\\ipykernel_27676\\214009338.py:33: FutureWarning: Returning a DataFrame from Series.apply when the supplied function returns a Series is deprecated and will be removed in a future version.\n",
      "  result_df = df['value'].apply(lambda x: pd.Series(\n"
     ]
    },
    {
     "name": "stdout",
     "output_type": "stream",
     "text": [
      "2018-06-03 2018-06-04\n"
     ]
    },
    {
     "name": "stderr",
     "output_type": "stream",
     "text": [
      "C:\\Users\\34645\\AppData\\Local\\Temp\\ipykernel_27676\\214009338.py:33: FutureWarning: Returning a DataFrame from Series.apply when the supplied function returns a Series is deprecated and will be removed in a future version.\n",
      "  result_df = df['value'].apply(lambda x: pd.Series(\n"
     ]
    },
    {
     "name": "stdout",
     "output_type": "stream",
     "text": [
      "2018-06-04 2018-06-05\n"
     ]
    },
    {
     "name": "stderr",
     "output_type": "stream",
     "text": [
      "C:\\Users\\34645\\AppData\\Local\\Temp\\ipykernel_27676\\214009338.py:33: FutureWarning: Returning a DataFrame from Series.apply when the supplied function returns a Series is deprecated and will be removed in a future version.\n",
      "  result_df = df['value'].apply(lambda x: pd.Series(\n"
     ]
    },
    {
     "name": "stdout",
     "output_type": "stream",
     "text": [
      "2018-06-05 2018-06-06\n",
      "                                    ansiedad                             \\\n",
      "geoName               (Campus Universitario) A Zamorana Aguadulce Agudo   \n",
      "time_frame                                                                \n",
      "2018-06-01 2018-06-02                    NaN        NaN       NaN   NaN   \n",
      "2018-06-02 2018-06-03                    NaN        NaN       0.0   NaN   \n",
      "2018-06-03 2018-06-04                    NaN        NaN       0.0   NaN   \n",
      "2018-06-04 2018-06-05                    0.0        NaN     100.0   NaN   \n",
      "2018-06-05 2018-06-06                    0.0        0.0     100.0   0.0   \n",
      "\n",
      "                                                                    \\\n",
      "geoName               Ajalvir Albacete Albatera Alberca Las Torres   \n",
      "time_frame                                                           \n",
      "2018-06-01 2018-06-02     NaN      NaN      NaN                0.0   \n",
      "2018-06-02 2018-06-03     NaN      0.0      NaN                NaN   \n",
      "2018-06-03 2018-06-04     NaN      0.0      0.0                NaN   \n",
      "2018-06-04 2018-06-05     0.0      0.0      0.0                NaN   \n",
      "2018-06-05 2018-06-06     0.0      0.0      0.0                NaN   \n",
      "\n",
      "                                                      ...         soledad  \\\n",
      "geoName               Alcalá de Henares Alcantarilla  ... Vitoria-Gasteiz   \n",
      "time_frame                                            ...                   \n",
      "2018-06-01 2018-06-02             100.0          NaN  ...             0.0   \n",
      "2018-06-02 2018-06-03               0.0         52.0  ...             0.0   \n",
      "2018-06-03 2018-06-04               0.0        100.0  ...             0.0   \n",
      "2018-06-04 2018-06-05               0.0          0.0  ...             0.0   \n",
      "2018-06-05 2018-06-06               NaN          NaN  ...             0.0   \n",
      "\n",
      "                                                                               \\\n",
      "geoName               Yecla Yurre Zamora Zaragoza Zarauz Águilas  Ávila Épila   \n",
      "time_frame                                                                      \n",
      "2018-06-01 2018-06-02   NaN   NaN    NaN      0.0    0.0     NaN    NaN   0.0   \n",
      "2018-06-02 2018-06-03   NaN   NaN    NaN      0.0    0.0     NaN    NaN   NaN   \n",
      "2018-06-03 2018-06-04   NaN   0.0    0.0     52.0    0.0     NaN    NaN   NaN   \n",
      "2018-06-04 2018-06-05   0.0   0.0    0.0      0.0    NaN     0.0    NaN   NaN   \n",
      "2018-06-05 2018-06-06   0.0   NaN    NaN      0.0    NaN     0.0  100.0   NaN   \n",
      "\n",
      "                              \n",
      "geoName                Úbeda  \n",
      "time_frame                    \n",
      "2018-06-01 2018-06-02    NaN  \n",
      "2018-06-02 2018-06-03    NaN  \n",
      "2018-06-03 2018-06-04    NaN  \n",
      "2018-06-04 2018-06-05   46.0  \n",
      "2018-06-05 2018-06-06  100.0  \n",
      "\n",
      "[5 rows x 808 columns]\n"
     ]
    },
    {
     "name": "stderr",
     "output_type": "stream",
     "text": [
      "C:\\Users\\34645\\AppData\\Local\\Temp\\ipykernel_27676\\214009338.py:33: FutureWarning: Returning a DataFrame from Series.apply when the supplied function returns a Series is deprecated and will be removed in a future version.\n",
      "  result_df = df['value'].apply(lambda x: pd.Series(\n"
     ]
    }
   ],
   "source": [
    "# Get the interest by city panel data\n",
    "city_panel_data = get_interest_by_city_panel(pytrends, kw_list, time_frame)\n",
    "\n",
    "# Pivot the data to have cities as columns and dates as rows\n",
    "city_panel_data_pivoted = city_panel_data.pivot_table(index='time_frame', columns='geoName')\n",
    "\n",
    "print(city_panel_data_pivoted)"
   ]
  },
  {
   "cell_type": "code",
   "execution_count": 7,
   "metadata": {},
   "outputs": [
    {
     "name": "stdout",
     "output_type": "stream",
     "text": [
      "Datos exportados a panel_data.csv\n"
     ]
    }
   ],
   "source": [
    "# Exportar el DataFrame a un archivo CSV\n",
    "city_panel_data_pivoted.to_csv('panel_data.csv')\n",
    "\n",
    "print(\"Datos exportados a panel_data.csv\")"
   ]
  }
 ],
 "metadata": {
  "kernelspec": {
   "display_name": "Python 3",
   "language": "python",
   "name": "python3"
  },
  "language_info": {
   "codemirror_mode": {
    "name": "ipython",
    "version": 3
   },
   "file_extension": ".py",
   "mimetype": "text/x-python",
   "name": "python",
   "nbconvert_exporter": "python",
   "pygments_lexer": "ipython3",
   "version": "3.11.5"
  },
  "orig_nbformat": 4
 },
 "nbformat": 4,
 "nbformat_minor": 2
}
